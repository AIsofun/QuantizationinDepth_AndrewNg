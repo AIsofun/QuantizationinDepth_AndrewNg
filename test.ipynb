{
 "cells": [
  {
   "cell_type": "code",
   "execution_count": 3,
   "id": "890c5057-80fc-4eef-a1a7-b9efe61c41e7",
   "metadata": {
    "scrolled": true
   },
   "outputs": [
    {
     "name": "stdout",
     "output_type": "stream",
     "text": [
      "初始的 8 位整数: 0b0\n",
      "\n",
      "当前处理第 0 个权重，权重值为: 0b1\n",
      "左移 0 位后的权重: 0b1\n",
      "合并前的 8 位整数: 0b0\n",
      "合并后的 8 位整数: 0b1\n",
      "\n",
      "当前处理第 1 个权重，权重值为: 0b10\n",
      "左移 2 位后的权重: 0b1000\n",
      "合并前的 8 位整数: 0b1\n",
      "合并后的 8 位整数: 0b1001\n",
      "\n",
      "当前处理第 2 个权重，权重值为: 0b11\n",
      "左移 4 位后的权重: 0b110000\n",
      "合并前的 8 位整数: 0b1001\n",
      "合并后的 8 位整数: 0b111001\n",
      "\n",
      "当前处理第 3 个权重，权重值为: 0b0\n",
      "左移 6 位后的权重: 0b0\n",
      "合并前的 8 位整数: 0b111001\n",
      "合并后的 8 位整数: 0b111001\n",
      "\n",
      "最终打包好的 8 位整数: 0b111001\n"
     ]
    }
   ],
   "source": [
    "# 假设这是4个2位的权重\n",
    "weights_2bit = [0b01, 0b10, 0b11, 0b00]\n",
    "\n",
    "# 初始化一个8位整数\n",
    "packed_8bit = 0\n",
    "print(f\"初始的 8 位整数: {bin(packed_8bit)}\")\n",
    "\n",
    "# 把4个2位权重打包进一个8位整数\n",
    "for i, weight in enumerate(weights_2bit):\n",
    "    print(f\"\\n当前处理第 {i} 个权重，权重值为: {bin(weight)}\")\n",
    "    shifted_weight = weight << (i * 2)\n",
    "    print(f\"左移 {i * 2} 位后的权重: {bin(shifted_weight)}\")\n",
    "    previous_packed_8bit = packed_8bit\n",
    "    packed_8bit |= shifted_weight\n",
    "    print(f\"合并前的 8 位整数: {bin(previous_packed_8bit)}\")\n",
    "    print(f\"合并后的 8 位整数: {bin(packed_8bit)}\")\n",
    "\n",
    "print(f\"\\n最终打包好的 8 位整数: {bin(packed_8bit)}\")"
   ]
  }
 ],
 "metadata": {
  "kernelspec": {
   "display_name": "Python 3 (ipykernel)",
   "language": "python",
   "name": "python3"
  },
  "language_info": {
   "codemirror_mode": {
    "name": "ipython",
    "version": 3
   },
   "file_extension": ".py",
   "mimetype": "text/x-python",
   "name": "python",
   "nbconvert_exporter": "python",
   "pygments_lexer": "ipython3",
   "version": "3.12.9"
  }
 },
 "nbformat": 4,
 "nbformat_minor": 5
}
