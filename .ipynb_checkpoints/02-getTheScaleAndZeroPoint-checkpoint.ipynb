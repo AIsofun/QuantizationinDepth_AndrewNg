{
 "cells": [
  {
   "cell_type": "code",
   "execution_count": 9,
   "id": "76ea60de-01e5-4e94-842e-8b6077e875af",
   "metadata": {},
   "outputs": [],
   "source": [
    "#量化是AI软件技术栈的关键部分，用于压缩LLM或其他模型\n"
   ]
  },
  {
   "cell_type": "code",
   "execution_count": null,
   "id": "6812b6ee-cb89-4766-92d2-a5adf0c224b4",
   "metadata": {},
   "outputs": [],
   "source": []
  }
 ],
 "metadata": {
  "kernelspec": {
   "display_name": "Python 3 (ipykernel)",
   "language": "python",
   "name": "python3"
  },
  "language_info": {
   "codemirror_mode": {
    "name": "ipython",
    "version": 3
   },
   "file_extension": ".py",
   "mimetype": "text/x-python",
   "name": "python",
   "nbconvert_exporter": "python",
   "pygments_lexer": "ipython3",
   "version": "3.12.9"
  }
 },
 "nbformat": 4,
 "nbformat_minor": 5
}
