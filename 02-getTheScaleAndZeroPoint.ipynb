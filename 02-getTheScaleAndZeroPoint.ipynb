{
 "cells": [
  {
   "cell_type": "code",
   "execution_count": 1,
   "id": "76ea60de-01e5-4e94-842e-8b6077e875af",
   "metadata": {},
   "outputs": [],
   "source": [
    "#量化是AI软件技术栈的关键部分，用于压缩LLM或其他模型\n"
   ]
  },
  {
   "cell_type": "markdown",
   "id": "8f8b60d0-2355-4a7f-8e9d-1ca55501c69b",
   "metadata": {},
   "source": [
    "# L2-B - Linear Quantization I: Get the Scale and Zero Point\n",
    "\n",
    "In this lesson, continue to learn about fundamentals of linear quantization, and implement your own Linear Quantizer."
   ]
  },
  {
   "cell_type": "code",
   "execution_count": 23,
   "id": "a9bb96ad-2b72-4fa0-9285-4e96f1b85832",
   "metadata": {},
   "outputs": [],
   "source": [
    "import torch"
   ]
  },
  {
   "cell_type": "code",
   "execution_count": null,
   "id": "823cb49e-5634-4e17-a323-5b1307d9ee79",
   "metadata": {},
   "outputs": [],
   "source": [
    "#同上一节的一样，这个包导入也是不成功的\n",
    "from helper import linear_q_with_scale_and_zero_point, linear_dequantization, plot_quantization_errors\n"
   ]
  },
  {
   "cell_type": "code",
   "execution_count": 24,
   "id": "1302b522-74ec-4c5d-bba1-65cbab557780",
   "metadata": {},
   "outputs": [],
   "source": [
    "### a dummy tensor to test the implementation\n",
    "test_tensor=torch.tensor(\n",
    "    [[191.6, -13.5, 728.6],\n",
    "     [92.14, 295.5,  -184],\n",
    "     [0,     684.6, 245.5]]\n",
    ")"
   ]
  },
  {
   "cell_type": "code",
   "execution_count": 25,
   "id": "5b755130-63c3-4139-bd7b-fe29349793cb",
   "metadata": {},
   "outputs": [],
   "source": [
    "q_min = torch.iinfo(torch.int8).min\n",
    "q_max = torch.iinfo(torch.int8).max\n",
    "\n"
   ]
  },
  {
   "cell_type": "code",
   "execution_count": 26,
   "id": "7ab1edc9-0dca-4593-bb9a-d36f6067d8d3",
   "metadata": {},
   "outputs": [
    {
     "data": {
      "text/plain": [
       "-128"
      ]
     },
     "execution_count": 26,
     "metadata": {},
     "output_type": "execute_result"
    }
   ],
   "source": [
    "q_min"
   ]
  },
  {
   "cell_type": "code",
   "execution_count": 27,
   "id": "d910c303-d8ce-4395-945c-f23588135f9e",
   "metadata": {},
   "outputs": [
    {
     "data": {
      "text/plain": [
       "127"
      ]
     },
     "execution_count": 27,
     "metadata": {},
     "output_type": "execute_result"
    }
   ],
   "source": [
    "q_max"
   ]
  },
  {
   "cell_type": "code",
   "execution_count": 28,
   "id": "57ff2d6d-a677-4388-9973-26de04fd0023",
   "metadata": {},
   "outputs": [
    {
     "data": {
      "text/plain": [
       "-184.0"
      ]
     },
     "execution_count": 28,
     "metadata": {},
     "output_type": "execute_result"
    }
   ],
   "source": [
    "#r_min = test_tensor.min()\n",
    "r_min = test_tensor.min().item()\n",
    "r_min"
   ]
  },
  {
   "cell_type": "code",
   "execution_count": 29,
   "id": "66cb2c0c-b366-4650-a79f-1f3ed209ed3b",
   "metadata": {},
   "outputs": [
    {
     "data": {
      "text/plain": [
       "728.5999755859375"
      ]
     },
     "execution_count": 29,
     "metadata": {},
     "output_type": "execute_result"
    }
   ],
   "source": [
    "r_max = test_tensor.max().item()\n",
    "r_max "
   ]
  },
  {
   "cell_type": "code",
   "execution_count": 30,
   "id": "31a46845-dcca-45ee-afe3-38488f8aee22",
   "metadata": {},
   "outputs": [
    {
     "data": {
      "text/plain": [
       "3.578823433670343"
      ]
     },
     "execution_count": 30,
     "metadata": {},
     "output_type": "execute_result"
    }
   ],
   "source": [
    "s = (r_max - r_min)/(q_max - q_min)\n",
    "s"
   ]
  },
  {
   "cell_type": "code",
   "execution_count": 31,
   "id": "546c0ba8-750d-469e-9914-f3c6b8f9474e",
   "metadata": {},
   "outputs": [
    {
     "data": {
      "text/plain": [
       "-77"
      ]
     },
     "execution_count": 31,
     "metadata": {},
     "output_type": "execute_result"
    }
   ],
   "source": [
    "z = int(q_min - round(r_min/s))\n",
    "z"
   ]
  },
  {
   "cell_type": "code",
   "execution_count": 32,
   "id": "2a4f06e7-b0c0-488b-b0c3-6f39bbf07867",
   "metadata": {},
   "outputs": [],
   "source": [
    "#但是这种直接按公式求zero point的方法，会有zero point out of range的问题，所以要处理一下，函数如下"
   ]
  },
  {
   "cell_type": "markdown",
   "id": "427cfb00-7039-48e8-8501-317e5a7a8a2a",
   "metadata": {},
   "source": [
    "![zeropointoutofrange](./img/02-zeroPointOutOfRange.png)"
   ]
  },
  {
   "cell_type": "code",
   "execution_count": 49,
   "id": "4f7a209d-075d-4547-8164-8d481c2e3662",
   "metadata": {},
   "outputs": [],
   "source": [
    "def get_q_scale_and_zero_point(r_tensor, dtype = torch.int8):\n",
    "    #rmax, rmin, qmax, qmin\n",
    "    q_min, q_max = torch.iinfo(dtype).min, torch.iinfo(dtype).max\n",
    "    r_min, r_max = r_tensor.min().item(), r_tensor.max().item()\n",
    "\n",
    "    #s and r\n",
    "    scale = (r_max - r_min)/(q_max - q_min)\n",
    "    zero_point = q_min - (r_min/scale)\n",
    "\n",
    "    #clip the zero_pint to fall in [qmin, qmax]\n",
    "    if zero_point < q_min:\n",
    "        zero_point = q_min\n",
    "    elif zero_point > q_max:\n",
    "        zero_point = q_max\n",
    "    else:\n",
    "        #round and cast to int\n",
    "        zero_point = int(round(zero_point))\n",
    "    return scale, zero_point"
   ]
  },
  {
   "cell_type": "code",
   "execution_count": 50,
   "id": "88e36a92-de15-460d-9100-cf1743527bba",
   "metadata": {},
   "outputs": [],
   "source": [
    "new_scale, new_zero_point = get_q_scale_and_zero_point(test_tensor)"
   ]
  },
  {
   "cell_type": "code",
   "execution_count": 51,
   "id": "6f0dd57c-8891-4b68-b40e-93938cb09b0a",
   "metadata": {},
   "outputs": [
    {
     "data": {
      "text/plain": [
       "3.578823433670343"
      ]
     },
     "execution_count": 51,
     "metadata": {},
     "output_type": "execute_result"
    }
   ],
   "source": [
    "new_scale"
   ]
  },
  {
   "cell_type": "code",
   "execution_count": 52,
   "id": "d1fe12f1-468f-4fe8-bbaf-f4a9d05e9acc",
   "metadata": {},
   "outputs": [
    {
     "data": {
      "text/plain": [
       "-77"
      ]
     },
     "execution_count": 52,
     "metadata": {},
     "output_type": "execute_result"
    }
   ],
   "source": [
    "new_zero_point"
   ]
  },
  {
   "cell_type": "code",
   "execution_count": 53,
   "id": "bfc1d826-f529-4a01-8069-a5654cc0d950",
   "metadata": {},
   "outputs": [],
   "source": [
    "def linear_q_with_scale_and_zero_point(\n",
    "    tensor, scale, zero_point, dtype=torch.int8):\n",
    "    scaled_and_shifted_tensor = tensor / scale + zero_point\n",
    "    \n",
    "    rounded_tensor = torch.round(scaled_and_shifted_tensor)\n",
    "    #最后一步是，确保我们的舍入张量在最小量化值和最大量化值之间\n",
    "    q_min = torch.iinfo(dtype).min#iInfo方法获取最小值和最大值\n",
    "    q_max = torch.iinfo(dtype).max\n",
    "\n",
    "    q_tensor = rounded_tensor.clamp(q_min, q_max).to(dtype)#定义量化张量（使用to()函数转换为我们想要的量化数据类型）\n",
    "    return q_tensor"
   ]
  },
  {
   "cell_type": "code",
   "execution_count": 54,
   "id": "c3878878-d281-4c12-a05a-5e4a87b556ac",
   "metadata": {},
   "outputs": [],
   "source": [
    "quantized_tensor = linear_q_with_scale_and_zero_point(test_tensor, new_scale, new_zero_point)"
   ]
  },
  {
   "cell_type": "code",
   "execution_count": 61,
   "id": "037ff2f8-c842-4302-8e7e-af9525fed8c7",
   "metadata": {},
   "outputs": [
    {
     "data": {
      "text/plain": [
       "tensor([[ -23,  -81,  127],\n",
       "        [ -51,    6, -128],\n",
       "        [ -77,  114,   -8]], dtype=torch.int8)"
      ]
     },
     "execution_count": 61,
     "metadata": {},
     "output_type": "execute_result"
    }
   ],
   "source": [
    "quantized_tensor"
   ]
  },
  {
   "cell_type": "code",
   "execution_count": 62,
   "id": "52ad34a4-2eec-44d9-b170-ae29ad1ffdcd",
   "metadata": {},
   "outputs": [],
   "source": [
    "def linear_dequantization(quantized_tensor, scale, zero_point):\n",
    "    return scale * (quantized_tensor.float() - zero_point)"
   ]
  },
  {
   "cell_type": "code",
   "execution_count": 66,
   "id": "91592bd2-ef7e-4c48-af4e-63b357aa7f8c",
   "metadata": {},
   "outputs": [],
   "source": [
    "dequantized_tensor = linear_dequantization(quantized_tensor, new_scale, new_zero_point)"
   ]
  },
  {
   "cell_type": "code",
   "execution_count": 67,
   "id": "c4dd5077-3384-482c-9bd1-ae1ec636fd20",
   "metadata": {},
   "outputs": [
    {
     "data": {
      "text/plain": [
       "tensor([[ 193.2565,  -14.3153,  730.0800],\n",
       "        [  93.0494,  297.0423, -182.5200],\n",
       "        [   0.0000,  683.5552,  246.9388]])"
      ]
     },
     "execution_count": 67,
     "metadata": {},
     "output_type": "execute_result"
    }
   ],
   "source": [
    "dequantized_tensor"
   ]
  },
  {
   "cell_type": "code",
   "execution_count": 68,
   "id": "ccf4cce4-dc44-4e97-b1ee-06acd04167b0",
   "metadata": {},
   "outputs": [
    {
     "ename": "NameError",
     "evalue": "name 'plot_quantization_errors' is not defined",
     "output_type": "error",
     "traceback": [
      "\u001b[0;31m---------------------------------------------------------------------------\u001b[0m",
      "\u001b[0;31mNameError\u001b[0m                                 Traceback (most recent call last)",
      "Cell \u001b[0;32mIn[68], line 2\u001b[0m\n\u001b[1;32m      1\u001b[0m \u001b[38;5;66;03m#同样，这个函数为实现\u001b[39;00m\n\u001b[0;32m----> 2\u001b[0m \u001b[43mplot_quantization_errors\u001b[49m(test_tensor, quantized_tensor, dequantized_tensor)\n",
      "\u001b[0;31mNameError\u001b[0m: name 'plot_quantization_errors' is not defined"
     ]
    }
   ],
   "source": [
    "#同样，这个函数没有实现，展示视频中执行的结果\n",
    "plot_quantization_errors(test_tensor, quantized_tensor, dequantized_tensor)"
   ]
  },
  {
   "cell_type": "markdown",
   "id": "40501e36-fa2d-4301-8083-e3248b638d82",
   "metadata": {},
   "source": [
    "![dequantized.png](./img/02-dequantizedTensor.png)"
   ]
  },
  {
   "cell_type": "code",
   "execution_count": 69,
   "id": "6912a075-f334-4e50-a47d-e81b0eef7f9b",
   "metadata": {},
   "outputs": [
    {
     "data": {
      "text/plain": [
       "tensor(1.5730)"
      ]
     },
     "execution_count": 69,
     "metadata": {},
     "output_type": "execute_result"
    }
   ],
   "source": [
    "(dequantized_tensor-test_tensor).square().mean()"
   ]
  },
  {
   "cell_type": "code",
   "execution_count": 70,
   "id": "41bb96ed-64d8-4341-897c-755226690cf8",
   "metadata": {},
   "outputs": [],
   "source": [
    "def linear_quantization(tensor, dtype = torch.int8):\n",
    "    scale, zero_point = get_q_scale_and_zero_point(tensor, dtype=dtype)\n",
    "    quantized_tensor = linear_q_with_scale_and_zero_point(tensor, scale, zero_point, dtype=dtype)\n",
    "    return quantized_tensor, scale, zero_point"
   ]
  },
  {
   "cell_type": "code",
   "execution_count": 71,
   "id": "35081d34-d939-4dad-8007-5c01d341d6e6",
   "metadata": {},
   "outputs": [],
   "source": [
    "r_tensor = torch.randn((4, 4))"
   ]
  },
  {
   "cell_type": "code",
   "execution_count": 72,
   "id": "0c51ea64-0b4e-45b5-9846-75b8a4b02ad0",
   "metadata": {},
   "outputs": [
    {
     "data": {
      "text/plain": [
       "tensor([[ 2.2076, -1.7764, -0.9115, -0.0222],\n",
       "        [ 0.2167, -1.7484, -1.4990,  0.7100],\n",
       "        [ 0.8893,  0.9245, -0.8773,  0.2604],\n",
       "        [-1.0853,  0.8478, -0.3211, -0.5872]])"
      ]
     },
     "execution_count": 72,
     "metadata": {},
     "output_type": "execute_result"
    }
   ],
   "source": [
    "r_tensor"
   ]
  },
  {
   "cell_type": "code",
   "execution_count": 73,
   "id": "704c6a83-60dd-47d9-aaec-abeb905f1174",
   "metadata": {},
   "outputs": [],
   "source": [
    "quantized_tensor, scale, zero_point = linear_quantization(r_tensor)"
   ]
  },
  {
   "cell_type": "code",
   "execution_count": 74,
   "id": "fa7272e1-7e69-4a33-a655-890244022d20",
   "metadata": {},
   "outputs": [
    {
     "data": {
      "text/plain": [
       "tensor([[ 127, -128,  -72,  -15],\n",
       "        [   0, -126, -110,   31],\n",
       "        [  43,   45,  -70,    3],\n",
       "        [ -83,   40,  -35,  -52]], dtype=torch.int8)"
      ]
     },
     "execution_count": 74,
     "metadata": {},
     "output_type": "execute_result"
    }
   ],
   "source": [
    "quantized_tensor"
   ]
  },
  {
   "cell_type": "code",
   "execution_count": 75,
   "id": "b0b7404e-8ef4-423f-979c-b9ae5b3b70e1",
   "metadata": {},
   "outputs": [
    {
     "data": {
      "text/plain": [
       "0.01562342737235275"
      ]
     },
     "execution_count": 75,
     "metadata": {},
     "output_type": "execute_result"
    }
   ],
   "source": [
    "scale"
   ]
  },
  {
   "cell_type": "code",
   "execution_count": 76,
   "id": "426d74c1-f2f4-41f8-8128-cd835793f0f0",
   "metadata": {},
   "outputs": [
    {
     "data": {
      "text/plain": [
       "-14"
      ]
     },
     "execution_count": 76,
     "metadata": {},
     "output_type": "execute_result"
    }
   ],
   "source": [
    "zero_point"
   ]
  },
  {
   "cell_type": "code",
   "execution_count": 80,
   "id": "e3f7461e-bb4e-480b-816c-37504f5fd974",
   "metadata": {},
   "outputs": [],
   "source": [
    "dequantized_tensor = linear_dequantization(quantized_tensor, scale, zero_point)"
   ]
  },
  {
   "cell_type": "code",
   "execution_count": null,
   "id": "1888996a-ab23-4b3e-99a7-e8097a89153e",
   "metadata": {},
   "outputs": [],
   "source": [
    "#每次随机生成，图示不同，这个图只是视频中的测试值演示\n",
    "plot_quantization_errors(r_tensor, quantized_tensor, dequantized_tensor)"
   ]
  },
  {
   "cell_type": "markdown",
   "id": "678e052b-694e-4ff1-a21f-9613bee6bbaa",
   "metadata": {},
   "source": [
    "![02-dequantizedTensor2.png](./img/02-dequantizedTensor2.png)"
   ]
  },
  {
   "cell_type": "code",
   "execution_count": 78,
   "id": "c9e820f0-ec12-44b9-9472-25ddf4032e23",
   "metadata": {},
   "outputs": [
    {
     "data": {
      "text/plain": [
       "tensor([[ 2.2029, -1.7811, -0.9062, -0.0156],\n",
       "        [ 0.2187, -1.7498, -1.4998,  0.7031],\n",
       "        [ 0.8905,  0.9218, -0.8749,  0.2656],\n",
       "        [-1.0780,  0.8437, -0.3281, -0.5937]])"
      ]
     },
     "execution_count": 78,
     "metadata": {},
     "output_type": "execute_result"
    }
   ],
   "source": [
    "dequantized_tensor"
   ]
  },
  {
   "cell_type": "code",
   "execution_count": 79,
   "id": "f29591cd-0197-431c-ba46-aa6f1719ba2d",
   "metadata": {},
   "outputs": [
    {
     "data": {
      "text/plain": [
       "tensor(2.3408e-05)"
      ]
     },
     "execution_count": 79,
     "metadata": {},
     "output_type": "execute_result"
    }
   ],
   "source": [
    "(dequantized_tensor-r_tensor).square().mean()"
   ]
  },
  {
   "cell_type": "code",
   "execution_count": null,
   "id": "9ba82325-5bbf-4287-acb4-9fa6d5d5c56a",
   "metadata": {},
   "outputs": [],
   "source": []
  }
 ],
 "metadata": {
  "kernelspec": {
   "display_name": "Python 3 (ipykernel)",
   "language": "python",
   "name": "python3"
  },
  "language_info": {
   "codemirror_mode": {
    "name": "ipython",
    "version": 3
   },
   "file_extension": ".py",
   "mimetype": "text/x-python",
   "name": "python",
   "nbconvert_exporter": "python",
   "pygments_lexer": "ipython3",
   "version": "3.10.16"
  }
 },
 "nbformat": 4,
 "nbformat_minor": 5
}
