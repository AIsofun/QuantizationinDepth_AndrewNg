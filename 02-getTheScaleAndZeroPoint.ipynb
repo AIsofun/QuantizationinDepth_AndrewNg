{
 "cells": [
  {
   "cell_type": "code",
   "execution_count": 1,
   "id": "76ea60de-01e5-4e94-842e-8b6077e875af",
   "metadata": {},
   "outputs": [],
   "source": [
    "#量化是AI软件技术栈的关键部分，用于压缩LLM或其他模型\n"
   ]
  },
  {
   "cell_type": "markdown",
   "id": "8f8b60d0-2355-4a7f-8e9d-1ca55501c69b",
   "metadata": {},
   "source": [
    "# L2-B - Linear Quantization I: Get the Scale and Zero Point\n",
    "\n",
    "In this lesson, continue to learn about fundamentals of linear quantization, and implement your own Linear Quantizer."
   ]
  },
  {
   "cell_type": "code",
   "execution_count": 3,
   "id": "a9bb96ad-2b72-4fa0-9285-4e96f1b85832",
   "metadata": {},
   "outputs": [
    {
     "ename": "ImportError",
     "evalue": "cannot import name 'linear_q_with_scale_and_zero_point' from 'helper' (/home/zeno/miniconda3/envs/opensora/lib/python3.10/site-packages/helper/__init__.py)",
     "output_type": "error",
     "traceback": [
      "\u001b[0;31m---------------------------------------------------------------------------\u001b[0m",
      "\u001b[0;31mImportError\u001b[0m                               Traceback (most recent call last)",
      "Cell \u001b[0;32mIn[3], line 3\u001b[0m\n\u001b[1;32m      1\u001b[0m \u001b[38;5;28;01mimport\u001b[39;00m\u001b[38;5;250m \u001b[39m\u001b[38;5;21;01mtorch\u001b[39;00m\n\u001b[0;32m----> 3\u001b[0m \u001b[38;5;28;01mfrom\u001b[39;00m\u001b[38;5;250m \u001b[39m\u001b[38;5;21;01mhelper\u001b[39;00m\u001b[38;5;250m \u001b[39m\u001b[38;5;28;01mimport\u001b[39;00m linear_q_with_scale_and_zero_point, linear_dequantization, plot_quantization_errors\n\u001b[1;32m      5\u001b[0m \u001b[38;5;66;03m### a dummy tensor to test the implementation\u001b[39;00m\n\u001b[1;32m      6\u001b[0m test_tensor\u001b[38;5;241m=\u001b[39mtorch\u001b[38;5;241m.\u001b[39mtensor(\n\u001b[1;32m      7\u001b[0m     [[\u001b[38;5;241m191.6\u001b[39m, \u001b[38;5;241m-\u001b[39m\u001b[38;5;241m13.5\u001b[39m, \u001b[38;5;241m728.6\u001b[39m],\n\u001b[1;32m      8\u001b[0m      [\u001b[38;5;241m92.14\u001b[39m, \u001b[38;5;241m295.5\u001b[39m,  \u001b[38;5;241m-\u001b[39m\u001b[38;5;241m184\u001b[39m],\n\u001b[1;32m      9\u001b[0m      [\u001b[38;5;241m0\u001b[39m,     \u001b[38;5;241m684.6\u001b[39m, \u001b[38;5;241m245.5\u001b[39m]]\n\u001b[1;32m     10\u001b[0m )\n",
      "\u001b[0;31mImportError\u001b[0m: cannot import name 'linear_q_with_scale_and_zero_point' from 'helper' (/home/zeno/miniconda3/envs/opensora/lib/python3.10/site-packages/helper/__init__.py)"
     ]
    }
   ],
   "source": [
    "import torch\n",
    "\n",
    "from helper import linear_q_with_scale_and_zero_point, linear_dequantization, plot_quantization_errors\n",
    "\n",
    "### a dummy tensor to test the implementation\n",
    "test_tensor=torch.tensor(\n",
    "    [[191.6, -13.5, 728.6],\n",
    "     [92.14, 295.5,  -184],\n",
    "     [0,     684.6, 245.5]]\n",
    ")"
   ]
  },
  {
   "cell_type": "code",
   "execution_count": null,
   "id": "bae1f078-c04d-4491-84b0-922837d4ca58",
   "metadata": {},
   "outputs": [],
   "source": []
  }
 ],
 "metadata": {
  "kernelspec": {
   "display_name": "Python 3 (ipykernel)",
   "language": "python",
   "name": "python3"
  },
  "language_info": {
   "codemirror_mode": {
    "name": "ipython",
    "version": 3
   },
   "file_extension": ".py",
   "mimetype": "text/x-python",
   "name": "python",
   "nbconvert_exporter": "python",
   "pygments_lexer": "ipython3",
   "version": "3.10.16"
  }
 },
 "nbformat": 4,
 "nbformat_minor": 5
}
