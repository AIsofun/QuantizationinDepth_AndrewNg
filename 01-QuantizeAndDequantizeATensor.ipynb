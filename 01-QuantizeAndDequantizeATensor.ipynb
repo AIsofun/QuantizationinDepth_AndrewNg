{
 "cells": [
  {
   "cell_type": "markdown",
   "id": "1fd4000a-a54e-4d14-9976-99393e5d2654",
   "metadata": {},
   "source": [
    "# Linear Quantization 1, part 1\n",
    "##引言  \n",
    "###1.Quantization refers to the process of mapping a large set to a smaller set of values.  \n",
    "###2.有很多量化技术，这里只专注于线性量化。量化的对象是权重，也就是神经网络参数，但也可以对激活值（the activations）进行量化。  \n",
    "###3.如果是对训练后的神经网络进行量化，称为后训练量化（post training quantization, PTQ）  \n",
    "###4.量化的优点：  \n",
    "a.模型体积更小  \n",
    "b.速度提升：memory bandwidth, faster operations(GEMM:General Matrix Multiply, GEMV:Genera Matrix Vector Multiplication)  \n",
    "###5.量化中的挑战：  \n",
    "a.Quantization  error（量化误差）  \n",
    "b.Retraining(Quantization Aware Training)（再训练（量化感知训练））  \n",
    "c.Limited Hardware support(有限的硬件资源)  \n",
    "d.Calibration dataset needed(需要校准数据集)  \n",
    "e.packing/unpacking  "
   ]
  },
  {
   "cell_type": "markdown",
   "id": "28fbeaab-e21e-4467-a55f-baff07c3abd0",
   "metadata": {},
   "source": [
    "##Linear Quantization\n",
    "###线性量化使用线性映射将高精度范围（例如浮点32），映射到低精度范围（如int8）。s为缩放因子，z为零点。如下图："
   ]
  },
  {
   "cell_type": "markdown",
   "id": "c05724ef-6608-4a69-a9a4-ecacbf12e851",
   "metadata": {},
   "source": [
    "![LinearQuantization.jpg](./img/01-LinearQuantization.jpg)"
   ]
  },
  {
   "cell_type": "markdown",
   "id": "0af69eaf-18f4-4bbd-a00e-f7ada4f34c5c",
   "metadata": {},
   "source": [
    "###缩放因子以与原始张量相同的数据类型存储，z以与量化后张量相同的数据类型存储。"
   ]
  },
  {
   "cell_type": "markdown",
   "id": "456ebb22-97d1-4edc-b4e3-450aab1e2027",
   "metadata": {},
   "source": [
    "###s为缩放因子，z为零点。"
   ]
  },
  {
   "cell_type": "markdown",
   "id": "481c37cf-593a-4281-b8f0-32243381d6ca",
   "metadata": {},
   "source": [
    "##为了得到量化张量q，我们推导推导公式："
   ]
  },
  {
   "cell_type": "markdown",
   "id": "ee797697-df81-43da-a4dc-d2b21a3fea50",
   "metadata": {},
   "source": [
    " ###q = int(round(r/s + z))"
   ]
  },
  {
   "cell_type": "markdown",
   "id": "8297625a-81cf-45a5-a6b2-b6aa073c8899",
   "metadata": {},
   "source": [
    "![getq](./img/01-getq.jpg)"
   ]
  },
  {
   "cell_type": "markdown",
   "id": "761746c1-eb8c-4c09-9c9a-807e50cb14ae",
   "metadata": {},
   "source": [
    "###代码"
   ]
  },
  {
   "cell_type": "code",
   "execution_count": 1,
   "id": "9c466daa-607b-4ee6-9786-240b39fde185",
   "metadata": {},
   "outputs": [
    {
     "name": "stdout",
     "output_type": "stream",
     "text": [
      "Requirement already satisfied: torch==2.1.1 in /Users/hwgeng/miniconda3/envs/pytorch2-1-1/lib/python3.10/site-packages (2.1.1)\n",
      "Requirement already satisfied: filelock in /Users/hwgeng/miniconda3/envs/pytorch2-1-1/lib/python3.10/site-packages (from torch==2.1.1) (3.18.0)\n",
      "Requirement already satisfied: typing-extensions in /Users/hwgeng/miniconda3/envs/pytorch2-1-1/lib/python3.10/site-packages (from torch==2.1.1) (4.12.2)\n",
      "Requirement already satisfied: sympy in /Users/hwgeng/miniconda3/envs/pytorch2-1-1/lib/python3.10/site-packages (from torch==2.1.1) (1.13.3)\n",
      "Requirement already satisfied: networkx in /Users/hwgeng/miniconda3/envs/pytorch2-1-1/lib/python3.10/site-packages (from torch==2.1.1) (3.4.2)\n",
      "Requirement already satisfied: jinja2 in /Users/hwgeng/miniconda3/envs/pytorch2-1-1/lib/python3.10/site-packages (from torch==2.1.1) (3.1.6)\n",
      "Requirement already satisfied: fsspec in /Users/hwgeng/miniconda3/envs/pytorch2-1-1/lib/python3.10/site-packages (from torch==2.1.1) (2025.3.2)\n",
      "Requirement already satisfied: MarkupSafe>=2.0 in /Users/hwgeng/miniconda3/envs/pytorch2-1-1/lib/python3.10/site-packages (from jinja2->torch==2.1.1) (3.0.2)\n",
      "Requirement already satisfied: mpmath<1.4,>=1.1.0 in /Users/hwgeng/miniconda3/envs/pytorch2-1-1/lib/python3.10/site-packages (from sympy->torch==2.1.1) (1.3.0)\n"
     ]
    }
   ],
   "source": [
    "!pip install torch==2.1.1"
   ]
  },
  {
   "cell_type": "code",
   "execution_count": 2,
   "id": "b5d77e34-13e7-4f3a-9e2b-cb4a7e198a76",
   "metadata": {},
   "outputs": [
    {
     "name": "stderr",
     "output_type": "stream",
     "text": [
      "/Users/hwgeng/miniconda3/envs/pytorch2-1-1/lib/python3.10/site-packages/torch/nn/modules/transformer.py:20: UserWarning: Failed to initialize NumPy: No module named 'numpy' (Triggered internally at /Users/runner/work/pytorch/pytorch/pytorch/torch/csrc/utils/tensor_numpy.cpp:84.)\n",
      "  device: torch.device = torch.device(torch._C._get_default_device()),  # torch.device('cpu'),\n"
     ]
    }
   ],
   "source": [
    "import torch"
   ]
  },
  {
   "cell_type": "code",
   "execution_count": 3,
   "id": "86670fae-c1d7-4295-9956-33acbae6cf8c",
   "metadata": {},
   "outputs": [],
   "source": [
    "def linear_q_with_scale_and_zero_point(\n",
    "    tensor, scale, zero_point, dtype=torch.int8):\n",
    "    scaled_and_shifted_tensor = tensor / scale + zero_point\n",
    "    \n",
    "    rounded_tensor = torch.round(scaled_and_shifted_tensor)\n",
    "    #最后一步是，确保我们的舍入张量在最小量化值和最大量化值之间\n",
    "    q_min = torch.iinfo(dtype).min#iInfo方法获取最小值和最大值\n",
    "    q_max = torch.iinfo(dtype).max\n",
    "\n",
    "    q_tensor = rounded_tensor.clamp(q_min, q_max).to(dtype)#定义量化张量（使用to()函数转换为我们想要的量化数据类型）\n",
    "    return q_tensor"
   ]
  },
  {
   "cell_type": "code",
   "execution_count": 4,
   "id": "3474d6b0-5014-4b45-a66b-ec60a847fb33",
   "metadata": {},
   "outputs": [],
   "source": [
    "test_tensor = torch.tensor([[191.6, -13.5, 728.6],[92.14, 295.5,-184],[0,684.6, 245.5]])"
   ]
  },
  {
   "cell_type": "code",
   "execution_count": 5,
   "id": "260df8c0-9043-4498-8339-77c95f8e159a",
   "metadata": {},
   "outputs": [],
   "source": [
    "scale = 3.5\n",
    "zero_point = -70"
   ]
  },
  {
   "cell_type": "code",
   "execution_count": 6,
   "id": "13815515-7fe6-497c-8534-99f5dd840bcb",
   "metadata": {},
   "outputs": [],
   "source": [
    "quantized_tensor = linear_q_with_scale_and_zero_point(test_tensor, scale, zero_point)"
   ]
  },
  {
   "cell_type": "code",
   "execution_count": 7,
   "id": "dca04b47-a84d-4076-83df-78235d2fae7a",
   "metadata": {},
   "outputs": [
    {
     "data": {
      "text/plain": [
       "tensor([[ -15,  -74,  127],\n",
       "        [ -44,   14, -123],\n",
       "        [ -70,  126,    0]], dtype=torch.int8)"
      ]
     },
     "execution_count": 7,
     "metadata": {},
     "output_type": "execute_result"
    }
   ],
   "source": [
    "quantized_tensor"
   ]
  },
  {
   "cell_type": "markdown",
   "id": "5b62eaaf-afdf-4ba9-b019-2c0203ae9bd6",
   "metadata": {},
   "source": [
    "###现在我们已经获取了量化张量quantized_tensor，让我们对其进行反量化，看看量化的精度如何。"
   ]
  },
  {
   "cell_type": "code",
   "execution_count": 8,
   "id": "686e4364-376e-429b-bb00-0c4408164f3c",
   "metadata": {},
   "outputs": [],
   "source": [
    "dequantized_tensor = scale * (quantized_tensor.float() - zero_point)"
   ]
  },
  {
   "cell_type": "code",
   "execution_count": 9,
   "id": "d5540923-0dda-4937-adce-52226564fbea",
   "metadata": {},
   "outputs": [
    {
     "data": {
      "text/plain": [
       "tensor([[ 192.5000,  -14.0000,  689.5000],\n",
       "        [  91.0000,  294.0000, -185.5000],\n",
       "        [   0.0000,  686.0000,  245.0000]])"
      ]
     },
     "execution_count": 9,
     "metadata": {},
     "output_type": "execute_result"
    }
   ],
   "source": [
    "dequantized_tensor"
   ]
  },
  {
   "cell_type": "code",
   "execution_count": 10,
   "id": "d840fe66-5a29-45ad-94d8-ee785c32cf1e",
   "metadata": {},
   "outputs": [],
   "source": [
    "###如果不转换成浮点数，"
   ]
  },
  {
   "cell_type": "code",
   "execution_count": 11,
   "id": "130fec93-61e5-431c-944d-515e52aab00b",
   "metadata": {},
   "outputs": [
    {
     "data": {
      "text/plain": [
       "tensor([[ 192.5000,  -14.0000, -206.5000],\n",
       "        [  91.0000,  294.0000, -185.5000],\n",
       "        [   0.0000, -210.0000,  245.0000]])"
      ]
     },
     "execution_count": 11,
     "metadata": {},
     "output_type": "execute_result"
    }
   ],
   "source": [
    "scale * (quantized_tensor - zero_point)"
   ]
  },
  {
   "cell_type": "code",
   "execution_count": 12,
   "id": "ace05173-be86-4c7b-8606-3d6452b3f764",
   "metadata": {},
   "outputs": [],
   "source": [
    "def linear_dequantization(quantized_tensor, scale, zero_point):\n",
    "    return scale * (quantized_tensor.float() - zero_point)"
   ]
  },
  {
   "cell_type": "code",
   "execution_count": 13,
   "id": "4420b6d2-7ce0-4425-90e1-13919be75230",
   "metadata": {},
   "outputs": [
    {
     "name": "stdout",
     "output_type": "stream",
     "text": [
      "Requirement already satisfied: helper in /Users/hwgeng/miniconda3/envs/pytorch2-1-1/lib/python3.10/site-packages (2.5.0)\n",
      "Requirement already satisfied: pyyaml in /Users/hwgeng/miniconda3/envs/pytorch2-1-1/lib/python3.10/site-packages (from helper) (6.0.2)\n"
     ]
    }
   ],
   "source": [
    "!pip install helper"
   ]
  },
  {
   "cell_type": "code",
   "execution_count": 14,
   "id": "9772a8c0-1b92-4be0-8180-cc33e07d3b62",
   "metadata": {},
   "outputs": [
    {
     "data": {
      "text/plain": [
       "'2.1.1'"
      ]
     },
     "execution_count": 14,
     "metadata": {},
     "output_type": "execute_result"
    }
   ],
   "source": [
    "torch.__version__"
   ]
  },
  {
   "cell_type": "code",
   "execution_count": 15,
   "id": "16fa89b8-50ee-4c60-9f7e-1ff2ace28765",
   "metadata": {},
   "outputs": [
    {
     "name": "stdout",
     "output_type": "stream",
     "text": [
      "['__builtins__', '__cached__', '__doc__', '__file__', '__loader__', '__name__', '__package__', '__path__', '__spec__', '__version__', 'parser', 'platform', 'start', 'sys', 'unix', 'version']\n"
     ]
    }
   ],
   "source": [
    "import helper\n",
    "print(dir(helper))\n"
   ]
  },
  {
   "cell_type": "markdown",
   "id": "d506cb98-6b49-4066-91b9-465aec96b717",
   "metadata": {},
   "source": [
    "##https://learn.deeplearning.ai/courses/quantization-in-depth/lesson/ssl13/quantize-and-de-quantize-a-tensor 打印的结果：\n",
    "['ListedColormap', '__builtins__', '__cached__', '__doc__', '__file__', '__loader__', '__name__', '__package__', '__spec__', 'plot_matrix', 'plot_quantization_errors', 'plt', 'sns', 'torch']"
   ]
  },
  {
   "cell_type": "code",
   "execution_count": 16,
   "id": "b87761ff-e10e-486a-8634-baf4474e61be",
   "metadata": {
    "scrolled": true
   },
   "outputs": [
    {
     "ename": "ImportError",
     "evalue": "cannot import name 'plot_quantization_errors' from 'helper' (/Users/hwgeng/miniconda3/envs/pytorch2-1-1/lib/python3.10/site-packages/helper/__init__.py)",
     "output_type": "error",
     "traceback": [
      "\u001b[0;31m---------------------------------------------------------------------------\u001b[0m",
      "\u001b[0;31mImportError\u001b[0m                               Traceback (most recent call last)",
      "Cell \u001b[0;32mIn[16], line 1\u001b[0m\n\u001b[0;32m----> 1\u001b[0m \u001b[38;5;28;01mfrom\u001b[39;00m\u001b[38;5;250m \u001b[39m\u001b[38;5;21;01mhelper\u001b[39;00m\u001b[38;5;250m \u001b[39m\u001b[38;5;28;01mimport\u001b[39;00m plot_quantization_errors\n",
      "\u001b[0;31mImportError\u001b[0m: cannot import name 'plot_quantization_errors' from 'helper' (/Users/hwgeng/miniconda3/envs/pytorch2-1-1/lib/python3.10/site-packages/helper/__init__.py)"
     ]
    }
   ],
   "source": [
    "from helper import plot_quantization_errors #由于安装的库里面没有这个函数，导致可视化的部分无法执行，对反量化的执行没有影响\n",
    "#下面贴上https://learn.deeplearning.ai/courses/quantization-in-depth上的执行结果"
   ]
  },
  {
   "cell_type": "code",
   "execution_count": null,
   "id": "b4fef9c4-c01c-462d-a38e-978044e9d44a",
   "metadata": {},
   "outputs": [],
   "source": [
    "plot_quantization_errors(test_tensor, quantized_tensor, dequantized_tensor)"
   ]
  },
  {
   "cell_type": "markdown",
   "id": "d71747b7-3ce4-4bbf-b045-eb71636456ba",
   "metadata": {},
   "source": [
    "![01-plot_quantization_errors.png](./img/01-plot_quantization_errors.png)"
   ]
  },
  {
   "cell_type": "markdown",
   "id": "490f40e8-ed54-46d6-9e84-e8d71f7aaad7",
   "metadata": {},
   "source": [
    "Note: For the plot above, Quantization Error Tensor = abs(Original Tensor - Dequantized Tensor)"
   ]
  },
  {
   "cell_type": "code",
   "execution_count": 18,
   "id": "d45a45a6-f0ef-43be-8031-88f600aa804c",
   "metadata": {},
   "outputs": [
    {
     "data": {
      "text/plain": [
       "tensor([[  0.9000,  -0.5000, -39.1000],\n",
       "        [ -1.1400,  -1.5000,  -1.5000],\n",
       "        [  0.0000,   1.4000,  -0.5000]])"
      ]
     },
     "execution_count": 18,
     "metadata": {},
     "output_type": "execute_result"
    }
   ],
   "source": [
    "dequantized_tensor - test_tensor"
   ]
  },
  {
   "cell_type": "code",
   "execution_count": 19,
   "id": "f912e2a7-a6bc-45d7-bea5-7b0099339d3f",
   "metadata": {},
   "outputs": [
    {
     "data": {
      "text/plain": [
       "tensor([[8.0999e-01, 2.5000e-01, 1.5288e+03],\n",
       "        [1.2996e+00, 2.2500e+00, 2.2500e+00],\n",
       "        [0.0000e+00, 1.9601e+00, 2.5000e-01]])"
      ]
     },
     "execution_count": 19,
     "metadata": {},
     "output_type": "execute_result"
    }
   ],
   "source": [
    "(dequantized_tensor - test_tensor).square()"
   ]
  },
  {
   "cell_type": "code",
   "execution_count": 20,
   "id": "34f49aad-4bdb-4ebe-8a94-fcb7fa3dc3c8",
   "metadata": {},
   "outputs": [
    {
     "data": {
      "text/plain": [
       "tensor(170.8753)"
      ]
     },
     "execution_count": 20,
     "metadata": {},
     "output_type": "execute_result"
    }
   ],
   "source": [
    "(dequantized_tensor - test_tensor).square().mean()"
   ]
  },
  {
   "cell_type": "code",
   "execution_count": null,
   "id": "4193cb9c-4204-4bd1-ba3d-5abcf8b08d20",
   "metadata": {},
   "outputs": [],
   "source": []
  }
 ],
 "metadata": {
  "kernelspec": {
   "display_name": "Python 3 (ipykernel)",
   "language": "python",
   "name": "python3"
  },
  "language_info": {
   "codemirror_mode": {
    "name": "ipython",
    "version": 3
   },
   "file_extension": ".py",
   "mimetype": "text/x-python",
   "name": "python",
   "nbconvert_exporter": "python",
   "pygments_lexer": "ipython3",
   "version": "3.10.16"
  }
 },
 "nbformat": 4,
 "nbformat_minor": 5
}
